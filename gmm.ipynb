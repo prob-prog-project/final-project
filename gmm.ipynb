{
 "cells": [
  {
   "cell_type": "code",
   "execution_count": 1,
   "metadata": {},
   "outputs": [],
   "source": [
    "from cmdstanpy import model\n",
    "import numpy as np\n",
    "import scanpy as sc\n",
    "import json\n",
    "import scipy.stats as stats\n",
    "import matplotlib.pyplot as plt"
   ]
  },
  {
   "cell_type": "code",
   "execution_count": 2,
   "metadata": {},
   "outputs": [],
   "source": [
    "from cmdstanpy import cmdstan_path, set_cmdstan_path\n",
    "set_cmdstan_path('/Users/alexander/cmdstan')"
   ]
  },
  {
   "cell_type": "code",
   "execution_count": 19,
   "metadata": {},
   "outputs": [],
   "source": [
    "import pandas as pd\n",
    "infer=pd.read_csv(\"N_infer_full_10.16.21\",index_col=0)"
   ]
  },
  {
   "cell_type": "code",
   "execution_count": 6,
   "metadata": {},
   "outputs": [
    {
     "data": {
      "text/html": [
       "<div>\n",
       "<style scoped>\n",
       "    .dataframe tbody tr th:only-of-type {\n",
       "        vertical-align: middle;\n",
       "    }\n",
       "\n",
       "    .dataframe tbody tr th {\n",
       "        vertical-align: top;\n",
       "    }\n",
       "\n",
       "    .dataframe thead th {\n",
       "        text-align: right;\n",
       "    }\n",
       "</style>\n",
       "<table border=\"1\" class=\"dataframe\">\n",
       "  <thead>\n",
       "    <tr style=\"text-align: right;\">\n",
       "      <th></th>\n",
       "      <th>NOC2L</th>\n",
       "      <th>SDF4</th>\n",
       "      <th>INTS11</th>\n",
       "      <th>CCNL2</th>\n",
       "      <th>MRPL20</th>\n",
       "      <th>SSU72</th>\n",
       "      <th>SLC35E2B</th>\n",
       "      <th>CDK11A</th>\n",
       "      <th>NADK</th>\n",
       "      <th>GNB1</th>\n",
       "      <th>...</th>\n",
       "      <th>ZBED4</th>\n",
       "      <th>CRELD2</th>\n",
       "      <th>PIM3</th>\n",
       "      <th>TRABD</th>\n",
       "      <th>SELENOO</th>\n",
       "      <th>PLXNB2</th>\n",
       "      <th>PPP6R2</th>\n",
       "      <th>SBF1</th>\n",
       "      <th>LMF2</th>\n",
       "      <th>CHKB</th>\n",
       "    </tr>\n",
       "  </thead>\n",
       "  <tbody>\n",
       "    <tr>\n",
       "      <th>GGACAGAAGAAGGGTA-1-3</th>\n",
       "      <td>1.001009</td>\n",
       "      <td>1.001009</td>\n",
       "      <td>1.001009</td>\n",
       "      <td>1.001009</td>\n",
       "      <td>1.001009</td>\n",
       "      <td>1.001009</td>\n",
       "      <td>1.001009</td>\n",
       "      <td>1.001009</td>\n",
       "      <td>1.001009</td>\n",
       "      <td>1.001009</td>\n",
       "      <td>...</td>\n",
       "      <td>1.001009</td>\n",
       "      <td>1.001009</td>\n",
       "      <td>1.001009</td>\n",
       "      <td>1.001009</td>\n",
       "      <td>1.001009</td>\n",
       "      <td>1.001009</td>\n",
       "      <td>1.001009</td>\n",
       "      <td>1.001009</td>\n",
       "      <td>1.001009</td>\n",
       "      <td>1.001009</td>\n",
       "    </tr>\n",
       "    <tr>\n",
       "      <th>TCAATCTCACTTGGAT-1-3</th>\n",
       "      <td>1.001009</td>\n",
       "      <td>1.001009</td>\n",
       "      <td>1.001009</td>\n",
       "      <td>1.001009</td>\n",
       "      <td>1.001009</td>\n",
       "      <td>1.001009</td>\n",
       "      <td>1.001009</td>\n",
       "      <td>1.001009</td>\n",
       "      <td>1.001009</td>\n",
       "      <td>1.001009</td>\n",
       "      <td>...</td>\n",
       "      <td>1.001009</td>\n",
       "      <td>1.001009</td>\n",
       "      <td>1.001009</td>\n",
       "      <td>1.001009</td>\n",
       "      <td>1.001009</td>\n",
       "      <td>1.001009</td>\n",
       "      <td>1.001009</td>\n",
       "      <td>1.001009</td>\n",
       "      <td>1.001009</td>\n",
       "      <td>1.001009</td>\n",
       "    </tr>\n",
       "    <tr>\n",
       "      <th>TTGCCGTAGTTACGGG-1-3</th>\n",
       "      <td>1.001009</td>\n",
       "      <td>1.001009</td>\n",
       "      <td>1.001009</td>\n",
       "      <td>1.001009</td>\n",
       "      <td>1.001009</td>\n",
       "      <td>1.001009</td>\n",
       "      <td>1.001009</td>\n",
       "      <td>1.001009</td>\n",
       "      <td>1.001009</td>\n",
       "      <td>1.001009</td>\n",
       "      <td>...</td>\n",
       "      <td>1.001009</td>\n",
       "      <td>1.001009</td>\n",
       "      <td>1.001009</td>\n",
       "      <td>1.001009</td>\n",
       "      <td>1.001009</td>\n",
       "      <td>1.001009</td>\n",
       "      <td>1.001009</td>\n",
       "      <td>1.001009</td>\n",
       "      <td>1.001009</td>\n",
       "      <td>1.001009</td>\n",
       "    </tr>\n",
       "    <tr>\n",
       "      <th>AACTCAGGTAATTGGA-1-3</th>\n",
       "      <td>1.001009</td>\n",
       "      <td>1.001009</td>\n",
       "      <td>1.001009</td>\n",
       "      <td>1.001009</td>\n",
       "      <td>1.001009</td>\n",
       "      <td>1.001009</td>\n",
       "      <td>1.001009</td>\n",
       "      <td>1.001009</td>\n",
       "      <td>1.001009</td>\n",
       "      <td>1.001009</td>\n",
       "      <td>...</td>\n",
       "      <td>1.001009</td>\n",
       "      <td>1.001009</td>\n",
       "      <td>1.001009</td>\n",
       "      <td>1.001009</td>\n",
       "      <td>1.001009</td>\n",
       "      <td>1.001009</td>\n",
       "      <td>1.001009</td>\n",
       "      <td>1.001009</td>\n",
       "      <td>1.001009</td>\n",
       "      <td>1.001009</td>\n",
       "    </tr>\n",
       "    <tr>\n",
       "      <th>CGAGCCAAGTTAACGA-1-3</th>\n",
       "      <td>1.001009</td>\n",
       "      <td>1.001009</td>\n",
       "      <td>1.001009</td>\n",
       "      <td>1.001009</td>\n",
       "      <td>1.001009</td>\n",
       "      <td>1.001009</td>\n",
       "      <td>1.001009</td>\n",
       "      <td>1.001009</td>\n",
       "      <td>1.001009</td>\n",
       "      <td>1.001009</td>\n",
       "      <td>...</td>\n",
       "      <td>1.001009</td>\n",
       "      <td>1.001009</td>\n",
       "      <td>1.001009</td>\n",
       "      <td>1.001009</td>\n",
       "      <td>1.001009</td>\n",
       "      <td>1.001009</td>\n",
       "      <td>1.001009</td>\n",
       "      <td>1.001009</td>\n",
       "      <td>1.001009</td>\n",
       "      <td>1.001009</td>\n",
       "    </tr>\n",
       "    <tr>\n",
       "      <th>...</th>\n",
       "      <td>...</td>\n",
       "      <td>...</td>\n",
       "      <td>...</td>\n",
       "      <td>...</td>\n",
       "      <td>...</td>\n",
       "      <td>...</td>\n",
       "      <td>...</td>\n",
       "      <td>...</td>\n",
       "      <td>...</td>\n",
       "      <td>...</td>\n",
       "      <td>...</td>\n",
       "      <td>...</td>\n",
       "      <td>...</td>\n",
       "      <td>...</td>\n",
       "      <td>...</td>\n",
       "      <td>...</td>\n",
       "      <td>...</td>\n",
       "      <td>...</td>\n",
       "      <td>...</td>\n",
       "      <td>...</td>\n",
       "      <td>...</td>\n",
       "    </tr>\n",
       "    <tr>\n",
       "      <th>GTTCTCGAGTTTCCTT-1-5</th>\n",
       "      <td>1.152337</td>\n",
       "      <td>1.147714</td>\n",
       "      <td>1.144628</td>\n",
       "      <td>1.141370</td>\n",
       "      <td>1.138487</td>\n",
       "      <td>1.133845</td>\n",
       "      <td>1.132396</td>\n",
       "      <td>1.131183</td>\n",
       "      <td>1.128991</td>\n",
       "      <td>1.128063</td>\n",
       "      <td>...</td>\n",
       "      <td>1.001472</td>\n",
       "      <td>1.001472</td>\n",
       "      <td>1.001472</td>\n",
       "      <td>1.001472</td>\n",
       "      <td>1.001472</td>\n",
       "      <td>1.001472</td>\n",
       "      <td>1.001472</td>\n",
       "      <td>1.001472</td>\n",
       "      <td>1.001472</td>\n",
       "      <td>1.001472</td>\n",
       "    </tr>\n",
       "    <tr>\n",
       "      <th>CCATTCGGTATGGTTC-1-5</th>\n",
       "      <td>1.001472</td>\n",
       "      <td>1.001472</td>\n",
       "      <td>1.001472</td>\n",
       "      <td>1.001472</td>\n",
       "      <td>1.001472</td>\n",
       "      <td>1.001472</td>\n",
       "      <td>1.001472</td>\n",
       "      <td>1.001472</td>\n",
       "      <td>1.001472</td>\n",
       "      <td>1.001472</td>\n",
       "      <td>...</td>\n",
       "      <td>1.115009</td>\n",
       "      <td>1.119440</td>\n",
       "      <td>1.121412</td>\n",
       "      <td>1.123560</td>\n",
       "      <td>1.126064</td>\n",
       "      <td>1.131157</td>\n",
       "      <td>1.134042</td>\n",
       "      <td>1.133940</td>\n",
       "      <td>1.133943</td>\n",
       "      <td>1.133894</td>\n",
       "    </tr>\n",
       "    <tr>\n",
       "      <th>GTGCATATCAAAGACA-1-5</th>\n",
       "      <td>1.163315</td>\n",
       "      <td>1.155507</td>\n",
       "      <td>1.141342</td>\n",
       "      <td>1.137278</td>\n",
       "      <td>1.130978</td>\n",
       "      <td>1.118832</td>\n",
       "      <td>1.113311</td>\n",
       "      <td>1.108189</td>\n",
       "      <td>1.098612</td>\n",
       "      <td>1.094177</td>\n",
       "      <td>...</td>\n",
       "      <td>1.001472</td>\n",
       "      <td>1.001472</td>\n",
       "      <td>1.001472</td>\n",
       "      <td>1.001472</td>\n",
       "      <td>1.001472</td>\n",
       "      <td>1.001472</td>\n",
       "      <td>1.001472</td>\n",
       "      <td>1.001472</td>\n",
       "      <td>1.001472</td>\n",
       "      <td>1.001472</td>\n",
       "    </tr>\n",
       "    <tr>\n",
       "      <th>ACAGCCGTCCGCGTTT-1-5</th>\n",
       "      <td>1.001472</td>\n",
       "      <td>1.001472</td>\n",
       "      <td>1.001472</td>\n",
       "      <td>1.001472</td>\n",
       "      <td>1.001472</td>\n",
       "      <td>1.001472</td>\n",
       "      <td>1.001472</td>\n",
       "      <td>1.001472</td>\n",
       "      <td>1.001472</td>\n",
       "      <td>1.001472</td>\n",
       "      <td>...</td>\n",
       "      <td>1.001472</td>\n",
       "      <td>1.001472</td>\n",
       "      <td>1.001472</td>\n",
       "      <td>1.001472</td>\n",
       "      <td>1.001472</td>\n",
       "      <td>1.001472</td>\n",
       "      <td>1.001472</td>\n",
       "      <td>1.001472</td>\n",
       "      <td>1.001472</td>\n",
       "      <td>1.001472</td>\n",
       "    </tr>\n",
       "    <tr>\n",
       "      <th>CCTATTAAGTGACATA-1-5</th>\n",
       "      <td>1.001472</td>\n",
       "      <td>1.001472</td>\n",
       "      <td>1.001472</td>\n",
       "      <td>1.001472</td>\n",
       "      <td>1.001472</td>\n",
       "      <td>1.001472</td>\n",
       "      <td>1.001472</td>\n",
       "      <td>1.001472</td>\n",
       "      <td>1.001472</td>\n",
       "      <td>1.001472</td>\n",
       "      <td>...</td>\n",
       "      <td>1.001472</td>\n",
       "      <td>1.001472</td>\n",
       "      <td>1.001472</td>\n",
       "      <td>1.001472</td>\n",
       "      <td>1.001472</td>\n",
       "      <td>1.001472</td>\n",
       "      <td>1.001472</td>\n",
       "      <td>1.001472</td>\n",
       "      <td>1.001472</td>\n",
       "      <td>1.001472</td>\n",
       "    </tr>\n",
       "  </tbody>\n",
       "</table>\n",
       "<p>35238 rows × 6079 columns</p>\n",
       "</div>"
      ],
      "text/plain": [
       "                         NOC2L      SDF4    INTS11     CCNL2    MRPL20  \\\n",
       "GGACAGAAGAAGGGTA-1-3  1.001009  1.001009  1.001009  1.001009  1.001009   \n",
       "TCAATCTCACTTGGAT-1-3  1.001009  1.001009  1.001009  1.001009  1.001009   \n",
       "TTGCCGTAGTTACGGG-1-3  1.001009  1.001009  1.001009  1.001009  1.001009   \n",
       "AACTCAGGTAATTGGA-1-3  1.001009  1.001009  1.001009  1.001009  1.001009   \n",
       "CGAGCCAAGTTAACGA-1-3  1.001009  1.001009  1.001009  1.001009  1.001009   \n",
       "...                        ...       ...       ...       ...       ...   \n",
       "GTTCTCGAGTTTCCTT-1-5  1.152337  1.147714  1.144628  1.141370  1.138487   \n",
       "CCATTCGGTATGGTTC-1-5  1.001472  1.001472  1.001472  1.001472  1.001472   \n",
       "GTGCATATCAAAGACA-1-5  1.163315  1.155507  1.141342  1.137278  1.130978   \n",
       "ACAGCCGTCCGCGTTT-1-5  1.001472  1.001472  1.001472  1.001472  1.001472   \n",
       "CCTATTAAGTGACATA-1-5  1.001472  1.001472  1.001472  1.001472  1.001472   \n",
       "\n",
       "                         SSU72  SLC35E2B    CDK11A      NADK      GNB1  ...  \\\n",
       "GGACAGAAGAAGGGTA-1-3  1.001009  1.001009  1.001009  1.001009  1.001009  ...   \n",
       "TCAATCTCACTTGGAT-1-3  1.001009  1.001009  1.001009  1.001009  1.001009  ...   \n",
       "TTGCCGTAGTTACGGG-1-3  1.001009  1.001009  1.001009  1.001009  1.001009  ...   \n",
       "AACTCAGGTAATTGGA-1-3  1.001009  1.001009  1.001009  1.001009  1.001009  ...   \n",
       "CGAGCCAAGTTAACGA-1-3  1.001009  1.001009  1.001009  1.001009  1.001009  ...   \n",
       "...                        ...       ...       ...       ...       ...  ...   \n",
       "GTTCTCGAGTTTCCTT-1-5  1.133845  1.132396  1.131183  1.128991  1.128063  ...   \n",
       "CCATTCGGTATGGTTC-1-5  1.001472  1.001472  1.001472  1.001472  1.001472  ...   \n",
       "GTGCATATCAAAGACA-1-5  1.118832  1.113311  1.108189  1.098612  1.094177  ...   \n",
       "ACAGCCGTCCGCGTTT-1-5  1.001472  1.001472  1.001472  1.001472  1.001472  ...   \n",
       "CCTATTAAGTGACATA-1-5  1.001472  1.001472  1.001472  1.001472  1.001472  ...   \n",
       "\n",
       "                         ZBED4    CRELD2      PIM3     TRABD   SELENOO  \\\n",
       "GGACAGAAGAAGGGTA-1-3  1.001009  1.001009  1.001009  1.001009  1.001009   \n",
       "TCAATCTCACTTGGAT-1-3  1.001009  1.001009  1.001009  1.001009  1.001009   \n",
       "TTGCCGTAGTTACGGG-1-3  1.001009  1.001009  1.001009  1.001009  1.001009   \n",
       "AACTCAGGTAATTGGA-1-3  1.001009  1.001009  1.001009  1.001009  1.001009   \n",
       "CGAGCCAAGTTAACGA-1-3  1.001009  1.001009  1.001009  1.001009  1.001009   \n",
       "...                        ...       ...       ...       ...       ...   \n",
       "GTTCTCGAGTTTCCTT-1-5  1.001472  1.001472  1.001472  1.001472  1.001472   \n",
       "CCATTCGGTATGGTTC-1-5  1.115009  1.119440  1.121412  1.123560  1.126064   \n",
       "GTGCATATCAAAGACA-1-5  1.001472  1.001472  1.001472  1.001472  1.001472   \n",
       "ACAGCCGTCCGCGTTT-1-5  1.001472  1.001472  1.001472  1.001472  1.001472   \n",
       "CCTATTAAGTGACATA-1-5  1.001472  1.001472  1.001472  1.001472  1.001472   \n",
       "\n",
       "                        PLXNB2    PPP6R2      SBF1      LMF2      CHKB  \n",
       "GGACAGAAGAAGGGTA-1-3  1.001009  1.001009  1.001009  1.001009  1.001009  \n",
       "TCAATCTCACTTGGAT-1-3  1.001009  1.001009  1.001009  1.001009  1.001009  \n",
       "TTGCCGTAGTTACGGG-1-3  1.001009  1.001009  1.001009  1.001009  1.001009  \n",
       "AACTCAGGTAATTGGA-1-3  1.001009  1.001009  1.001009  1.001009  1.001009  \n",
       "CGAGCCAAGTTAACGA-1-3  1.001009  1.001009  1.001009  1.001009  1.001009  \n",
       "...                        ...       ...       ...       ...       ...  \n",
       "GTTCTCGAGTTTCCTT-1-5  1.001472  1.001472  1.001472  1.001472  1.001472  \n",
       "CCATTCGGTATGGTTC-1-5  1.131157  1.134042  1.133940  1.133943  1.133894  \n",
       "GTGCATATCAAAGACA-1-5  1.001472  1.001472  1.001472  1.001472  1.001472  \n",
       "ACAGCCGTCCGCGTTT-1-5  1.001472  1.001472  1.001472  1.001472  1.001472  \n",
       "CCTATTAAGTGACATA-1-5  1.001472  1.001472  1.001472  1.001472  1.001472  \n",
       "\n",
       "[35238 rows x 6079 columns]"
      ]
     },
     "execution_count": 6,
     "metadata": {},
     "output_type": "execute_result"
    }
   ],
   "source": [
    "infer"
   ]
  },
  {
   "cell_type": "code",
   "execution_count": 20,
   "metadata": {},
   "outputs": [],
   "source": [
    "X=np.asarray(infer).tolist()"
   ]
  },
  {
   "cell_type": "code",
   "execution_count": 8,
   "metadata": {},
   "outputs": [],
   "source": [
    "array_sum = np.sum(X)\n",
    "array_has_nan = np.isnan(array_sum)"
   ]
  },
  {
   "cell_type": "code",
   "execution_count": 230,
   "metadata": {},
   "outputs": [],
   "source": [
    "deleted = []\n",
    "amp = []\n",
    "same = []\n",
    "\n",
    "for i in range(len(X)):\n",
    "    for j in range(len(X[0])):\n",
    "        if X[i][j] < .95:\n",
    "            deleted.append( X[i][j])\n",
    "        elif X[i][j] > 1.05:\n",
    "            amp.append( X[i][j])\n",
    "        else:\n",
    "            same.append( X[i][j])"
   ]
  },
  {
   "cell_type": "code",
   "execution_count": 233,
   "metadata": {},
   "outputs": [
    {
     "name": "stdout",
     "output_type": "stream",
     "text": [
      "0.9109963780826867\n",
      "1.1167909721953126\n",
      "1.0010135287936273\n"
     ]
    }
   ],
   "source": [
    "print(np.mean(deleted))\n",
    "print(np.mean(amp))\n",
    "print(np.mean(same))"
   ]
  },
  {
   "cell_type": "code",
   "execution_count": 232,
   "metadata": {},
   "outputs": [
    {
     "data": {
      "text/plain": [
       "19182598"
      ]
     },
     "execution_count": 232,
     "metadata": {},
     "output_type": "execute_result"
    }
   ],
   "source": [
    "len(deleted)"
   ]
  },
  {
   "cell_type": "code",
   "execution_count": 200,
   "metadata": {},
   "outputs": [
    {
     "data": {
      "text/plain": [
       "0.21696141186469267"
      ]
     },
     "execution_count": 200,
     "metadata": {},
     "output_type": "execute_result"
    }
   ],
   "source": [
    "count_dif/(len(X) * len(X[0]))"
   ]
  },
  {
   "cell_type": "code",
   "execution_count": 120,
   "metadata": {},
   "outputs": [],
   "source": [
    "small_X = []\n",
    "flat_x = []\n",
    "for i in range(200):\n",
    "    curr = []\n",
    "    for j in range(200):\n",
    "        curr.append(X[i][j])\n",
    "        flat_x.append(X[i][j])\n",
    "    small_X.append(curr)\n",
    "    "
   ]
  },
  {
   "cell_type": "code",
   "execution_count": 121,
   "metadata": {},
   "outputs": [
    {
     "data": {
      "text/plain": [
       "-0.07619580273693005"
      ]
     },
     "execution_count": 121,
     "metadata": {},
     "output_type": "execute_result"
    }
   ],
   "source": [
    "flat_x[0] - max(flat_x)"
   ]
  },
  {
   "cell_type": "code",
   "execution_count": 10,
   "metadata": {},
   "outputs": [
    {
     "ename": "KeyboardInterrupt",
     "evalue": "",
     "output_type": "error",
     "traceback": [
      "\u001b[0;31m---------------------------------------------------------------------------\u001b[0m",
      "\u001b[0;31mKeyboardInterrupt\u001b[0m                         Traceback (most recent call last)",
      "\u001b[0;32m<ipython-input-10-5fc26977fcc1>\u001b[0m in \u001b[0;36m<module>\u001b[0;34m\u001b[0m\n\u001b[1;32m     10\u001b[0m             \u001b[0mcurr\u001b[0m\u001b[0;34m.\u001b[0m\u001b[0mappend\u001b[0m\u001b[0;34m(\u001b[0m\u001b[0mnp\u001b[0m\u001b[0;34m.\u001b[0m\u001b[0mrandom\u001b[0m\u001b[0;34m.\u001b[0m\u001b[0mnormal\u001b[0m\u001b[0;34m(\u001b[0m\u001b[0;36m.7\u001b[0m\u001b[0;34m,\u001b[0m\u001b[0;36m.1\u001b[0m\u001b[0;34m)\u001b[0m\u001b[0;34m)\u001b[0m\u001b[0;34m\u001b[0m\u001b[0;34m\u001b[0m\u001b[0m\n\u001b[1;32m     11\u001b[0m         \u001b[0;32melif\u001b[0m \u001b[0mrand\u001b[0m  \u001b[0;34m>\u001b[0m \u001b[0;36m.7\u001b[0m \u001b[0;34m:\u001b[0m\u001b[0;34m\u001b[0m\u001b[0;34m\u001b[0m\u001b[0m\n\u001b[0;32m---> 12\u001b[0;31m             \u001b[0mcurr\u001b[0m\u001b[0;34m.\u001b[0m\u001b[0mappend\u001b[0m\u001b[0;34m(\u001b[0m\u001b[0mnp\u001b[0m\u001b[0;34m.\u001b[0m\u001b[0mrandom\u001b[0m\u001b[0;34m.\u001b[0m\u001b[0mnormal\u001b[0m\u001b[0;34m(\u001b[0m\u001b[0;36m1.3\u001b[0m\u001b[0;34m,\u001b[0m\u001b[0;36m.1\u001b[0m\u001b[0;34m)\u001b[0m\u001b[0;34m)\u001b[0m\u001b[0;34m\u001b[0m\u001b[0;34m\u001b[0m\u001b[0m\n\u001b[0m\u001b[1;32m     13\u001b[0m         \u001b[0;32melse\u001b[0m\u001b[0;34m:\u001b[0m\u001b[0;34m\u001b[0m\u001b[0;34m\u001b[0m\u001b[0m\n\u001b[1;32m     14\u001b[0m             \u001b[0mcurr\u001b[0m\u001b[0;34m.\u001b[0m\u001b[0mappend\u001b[0m\u001b[0;34m(\u001b[0m\u001b[0mnp\u001b[0m\u001b[0;34m.\u001b[0m\u001b[0mrandom\u001b[0m\u001b[0;34m.\u001b[0m\u001b[0mnormal\u001b[0m\u001b[0;34m(\u001b[0m\u001b[0;36m1.0\u001b[0m\u001b[0;34m,\u001b[0m\u001b[0;36m.1\u001b[0m\u001b[0;34m)\u001b[0m\u001b[0;34m)\u001b[0m\u001b[0;34m\u001b[0m\u001b[0;34m\u001b[0m\u001b[0m\n",
      "\u001b[0;31mKeyboardInterrupt\u001b[0m: "
     ]
    }
   ],
   "source": [
    "#X = list(X)\n",
    "#sample data wich is easy to describe\n",
    "new_X = []\n",
    "for i in range(35238):\n",
    "  #  if i % 100 == 0:\n",
    "  #      print(i)\n",
    "    curr = []\n",
    "    for j in range(6079):\n",
    "        rand = np.random.rand() \n",
    "        if rand < .3:\n",
    "            curr.append(np.random.normal(.7,.1))\n",
    "        elif rand  > .7 :\n",
    "            curr.append(np.random.normal(1.3,.1))\n",
    "        else:\n",
    "            curr.append(np.random.normal(1.0,.1))\n",
    "    new_X.append(curr)"
   ]
  },
  {
   "cell_type": "code",
   "execution_count": 4,
   "metadata": {},
   "outputs": [],
   "source": [
    "GMM_test_data = os.path.join(cmdstan_path(), 'GMM', 'GMM_test.data.json')"
   ]
  },
  {
   "cell_type": "code",
   "execution_count": 122,
   "metadata": {},
   "outputs": [
    {
     "name": "stdout",
     "output_type": "stream",
     "text": [
      "/Users/alexander/cmdstan/GMM/GMM_test.data.json\n"
     ]
    }
   ],
   "source": [
    "data = {}\n",
    "data['C'] = len(small_X)\n",
    "data['G'] = len(small_X[0])\n",
    "\n",
    "#hyperparameters, just holder values\n",
    "#data['a_prime'] = [10000*2.7,10000*3.3,10000*2.7]\n",
    "#data['b_prime'] = [10000*.5,10000*.74,10000*.5]\n",
    "#print(data['a_prime'] )\n",
    "#want alpha to be 5, beta to be 7.14 for first \n",
    "#4.4, 4.4 \n",
    "# 5, 3.5 \n",
    "#data['mu_alpha'] = [5,4.4,5]\n",
    "#data['mu_beta'] = [7.14,4.4,3.5]\n",
    "\n",
    "#data['priors'] = [.2,.6,.2]\n",
    "\n",
    "#data['a'] = [10000*5,10000*3.3,100000*5.9]\n",
    "#data['b'] = [10000*.7,10000*.74,10000*1.7]\n",
    "data['prior_mu'] = [.9109,1.001,1.1167]\n",
    "\n",
    "data['eta'] = small_X\n",
    "GMM_test_data = os.path.join(cmdstan_path(), 'GMM', 'GMM_test.data.json')\n",
    "print(GMM_test_data)\n",
    "with open(GMM_test_data, \"w\") as outfile:\n",
    "    json.dump(data, outfile)"
   ]
  },
  {
   "cell_type": "code",
   "execution_count": 237,
   "metadata": {},
   "outputs": [
    {
     "name": "stdout",
     "output_type": "stream",
     "text": [
      "/Users/alexander/cmdstan/GMM/GMM.data.json\n"
     ]
    }
   ],
   "source": [
    "#This takes quite a while... only run it once run below to change the hyperparams\n",
    "data = {}\n",
    "data['C'] = len(X)\n",
    "data['G'] = len(X[0])\n",
    "\n",
    "#hyperparameters, just holder values\n",
    "#data['a_prime'] = [10000*2.7,10000*3.3,10000*2.7]\n",
    "#data['b_prime'] = [10000*.5,10000*.74,10000*.5]\n",
    "#print(data['a_prime'] )\n",
    "#want alpha to be 5, beta to be 7.14 for first \n",
    "#4.4, 4.4 \n",
    "# 5, 3.5 \n",
    "#data['mu_alpha'] = [5,4.4,5]\n",
    "#data['mu_beta'] = [7.14,4.4,3.5]\n",
    "\n",
    "#data['priors'] = [.2,.6,.2]\n",
    "\n",
    "#data['a'] = [10000*5,10000*3.3,100000*5.9]\n",
    "#data['b'] = [10000*.7,10000*.74,10000*1.7]\n",
    "data['prior_mu'] = [.9109,1.001,1.1167]\n",
    "\n",
    "data['eta'] = X\n",
    "GMM_data = os.path.join(cmdstan_path(), 'GMM', 'GMM.data.json')\n",
    "print(GMM_data)\n",
    "with open(GMM_data, \"w\") as outfile:\n",
    "    json.dump(data, outfile)\n"
   ]
  },
  {
   "cell_type": "code",
   "execution_count": 45,
   "metadata": {},
   "outputs": [
    {
     "name": "stdout",
     "output_type": "stream",
     "text": [
      "27000.0 5000.0\n"
     ]
    },
    {
     "data": {
      "image/png": "[encoded data removed]",
      "text/plain": [
       "<Figure size 432x288 with 1 Axes>"
      ]
     },
     "metadata": {
      "needs_background": "light"
     },
     "output_type": "display_data"
    },
    {
     "name": "stdout",
     "output_type": "stream",
     "text": [
      "33000.0 7400.0\n"
     ]
    },
    {
     "data": {
      "image/png": "[encoded data removed]",
      "text/plain": [
       "<Figure size 432x288 with 1 Axes>"
      ]
     },
     "metadata": {
      "needs_background": "light"
     },
     "output_type": "display_data"
    },
    {
     "name": "stdout",
     "output_type": "stream",
     "text": [
      "27000.0 5000.0\n"
     ]
    },
    {
     "data": {
      "image/png": "[encoded data removed]",
      "text/plain": [
       "<Figure size 432x288 with 1 Axes>"
      ]
     },
     "metadata": {
      "needs_background": "light"
     },
     "output_type": "display_data"
    }
   ],
   "source": [
    "for i in range(3):\n",
    "    a =  10000*[2.7,3.3,2.7][i]\n",
    "    b = 10000*[.5,.74,.5][i]\n",
    "    print(a,b)\n",
    "    x = np.linspace(0,10,1000)\n",
    "    y = stats.gamma.pdf(x, a=a, scale=1/b)\n",
    "    plt.plot(x,y)\n",
    "    plt.show()\n"
   ]
  },
  {
   "cell_type": "code",
   "execution_count": null,
   "metadata": {},
   "outputs": [],
   "source": []
  },
  {
   "cell_type": "code",
   "execution_count": null,
   "metadata": {},
   "outputs": [],
   "source": []
  },
  {
   "cell_type": "code",
   "execution_count": null,
   "metadata": {},
   "outputs": [],
   "source": []
  },
  {
   "cell_type": "code",
   "execution_count": 11,
   "metadata": {},
   "outputs": [
    {
     "name": "stderr",
     "output_type": "stream",
     "text": [
      "INFO:cmdstanpy:compiling stan program, exe file: /var/folders/tl/_362fbkn33b40bs9pcwpbcfc0000gn/T/tmpu5ml1c35/tmp6s36xl9y\n",
      "INFO:cmdstanpy:compiler options: stanc_options={}, cpp_options={}\n",
      "INFO:cmdstanpy:compiled model file: /Users/alexander/classes/Ml prob prog/project/GMM\n"
     ]
    },
    {
     "data": {
      "text/plain": [
       "\"data{\\n  int<lower=0> C;\\n  int<lower=0> G;\\n\\n  real eta[C,G];\\n\\n  real prior_mu[3];\\n\\n\\n\\n}\\n\\nparameters{\\n  simplex[3] pi; #mixing proportion\\n#  vector<lower=0>[3] mu; #lower bound at 0 because all means must be >0\\n  vector<lower=0>[3] sigma;\\n}\\n\\nmodel{\\n  vector[3] contributions;\\n\\n#  mu ~ normal(prior_mu,.5);\\n  sigma ~ normal(0,.5);\\n\\n  pi ~ dirichlet([1.,1.,1.]');\\n\\n  for (c in 1:C){\\n    for (g in 1:G){\\n      for (k in 1:3){\\n        contributions[k] = log(pi[k])+normal_lpdf(eta[c][g] | prior_mu[k], sigma[k]) ;\\n      }\\n      target += log_sum_exp(contributions) ;\\n    }\\n  }\\n\\n\\n\\n\\n}\\ngenerated quantities{\\n  int mixture[C,G] = rep_array(1, C, G);\\n  matrix[C,G] prob_1;\\n  matrix[C,G] prob_2;\\n  matrix[C,G] prob_3;\\n  real ps[3];\\n  for (c in 1:C){\\n    for (g in 1:G){\\n      for (k in 1:3){\\n        ps[k] = log(pi[k]) + (normal_lpdf(eta[c][g] | prior_mu[k], sigma[k]));\\n        // if(k == 1)\\n        //   prob_1[c][g] = ps[k];\\n        // if(k == 2)\\n        //   prob_2[c][g] = ps[k];\\n        // if(k == 2)\\n        //   prob_3[c][g] = ps[k];\\n        if(ps[k] >= ps[mixture[c][g]]){\\n          mixture[c][g] = k;\\n        }\\n      }\\n\\n\\n    }\\n  }\\n\\n}\\n\""
      ]
     },
     "execution_count": 11,
     "metadata": {},
     "output_type": "execute_result"
    }
   ],
   "source": [
    "import os\n",
    "from cmdstanpy import cmdstan_path, CmdStanModel\n",
    "GMM_stan = os.path.join('GMM.stan')\n",
    "GMM_model = CmdStanModel(stan_file=GMM_stan)\n",
    "GMM_model.name\n",
    "GMM_model.stan_file\n",
    "GMM_model.exe_file\n",
    "GMM_model.code()"
   ]
  },
  {
   "cell_type": "code",
   "execution_count": 5,
   "metadata": {},
   "outputs": [
    {
     "name": "stderr",
     "output_type": "stream",
     "text": [
      "INFO:cmdstanpy:Chain [1] start processing\n"
     ]
    },
    {
     "name": "stdout",
     "output_type": "stream",
     "text": [
      "Chain [1] method = variational\n",
      "Chain [1] variational\n",
      "Chain [1] algorithm = meanfield (Default)\n",
      "Chain [1] meanfield\n",
      "Chain [1] iter = 10000 (Default)\n",
      "Chain [1] grad_samples = 1 (Default)\n",
      "Chain [1] elbo_samples = 100 (Default)\n",
      "Chain [1] eta = 1 (Default)\n",
      "Chain [1] adapt\n",
      "Chain [1] engaged = 1 (Default)\n",
      "Chain [1] iter = 50 (Default)\n",
      "Chain [1] tol_rel_obj = 0.001\n",
      "Chain [1] eval_elbo = 100 (Default)\n",
      "Chain [1] output_samples = 1000 (Default)\n",
      "Chain [1] id = 1 (Default)\n",
      "Chain [1] data\n",
      "Chain [1] file = /Users/alexander/cmdstan/GMM/GMM_test.data.json\n",
      "Chain [1] init = 2 (Default)\n",
      "Chain [1] random\n",
      "Chain [1] seed = 52256\n",
      "Chain [1] output\n",
      "Chain [1] file = /Users/alexander/classes/Ml prob prog/project/GMM-20211122222018.csv\n",
      "Chain [1] diagnostic_file =  (Default)\n",
      "Chain [1] refresh = 100 (Default)\n",
      "Chain [1] sig_figs = -1 (Default)\n",
      "Chain [1] profile_file = profile.csv (Default)\n",
      "Chain [1] num_threads = 1 (Default)\n",
      "Chain [1] \n",
      "Chain [1] ------------------------------------------------------------\n",
      "Chain [1] EXPERIMENTAL ALGORITHM:\n",
      "Chain [1] This procedure has not been thoroughly tested and may be unstable\n",
      "Chain [1] or buggy. The interface is subject to change.\n",
      "Chain [1] ------------------------------------------------------------\n",
      "Chain [1] \n",
      "Chain [1] \n",
      "Chain [1] \n",
      "Chain [1] Gradient evaluation took 0.069725 seconds\n",
      "Chain [1] 1000 transitions using 10 leapfrog steps per transition would take 697.25 seconds.\n",
      "Chain [1] Adjust your expectations accordingly!\n",
      "Chain [1] \n",
      "Chain [1] \n",
      "Chain [1] Begin eta adaptation.\n",
      "Chain [1] Iteration:   1 / 250 [  0%]  (Adaptation)\n",
      "Chain [1] Iteration:  50 / 250 [ 20%]  (Adaptation)\n",
      "Chain [1] Iteration: 100 / 250 [ 40%]  (Adaptation)\n",
      "Chain [1] Iteration: 150 / 250 [ 60%]  (Adaptation)\n",
      "Chain [1] Iteration: 200 / 250 [ 80%]  (Adaptation)\n",
      "Chain [1] Success! Found best value [eta = 1] earlier than expected.\n",
      "Chain [1] \n",
      "Chain [1] Begin stochastic gradient ascent.\n",
      "Chain [1] iter             ELBO   delta_ELBO_mean   delta_ELBO_med   notes\n",
      "Chain [1] 100       107415.377             1.000            1.000\n",
      "Chain [1] 200       182173.640             0.705            1.000\n",
      "Chain [1] 300       363216.179             0.636            0.498\n",
      "Chain [1] 400       399416.064             0.500            0.498\n",
      "Chain [1] 500       401905.102             0.401            0.410\n",
      "Chain [1] 600       401996.196             0.334            0.410\n",
      "Chain [1] 700       402017.405             0.287            0.091\n",
      "Chain [1] 800       402017.576             0.251            0.091\n",
      "Chain [1] 900       402015.125             0.223            0.006\n",
      "Chain [1] 1000       402018.528             0.201            0.006\n",
      "Chain [1] 1100       402005.538             0.101            0.000   MEDIAN ELBO CONVERGED\n",
      "Chain [1] \n",
      "Chain [1] Drawing a sample of size 1000 from the approximate posterior...\n"
     ]
    },
    {
     "name": "stderr",
     "output_type": "stream",
     "text": [
      "INFO:cmdstanpy:Chain [1] done processing\n"
     ]
    },
    {
     "name": "stdout",
     "output_type": "stream",
     "text": [
      "Chain [1] COMPLETED.\n",
      "Chain [1] \n"
     ]
    }
   ],
   "source": [
    "GMM_fit = GMM_model.variational(data=GMM_test_data, output_dir='.',show_console=True,require_converged=False,tol_rel_obj=.001,iter=10000)\n",
    "\n",
    "\n",
    "\n"
   ]
  },
  {
   "cell_type": "code",
   "execution_count": 118,
   "metadata": {},
   "outputs": [
    {
     "data": {
      "text/plain": [
       "1.0"
      ]
     },
     "execution_count": 118,
     "metadata": {},
     "output_type": "execute_result"
    }
   ],
   "source": [
    "GMM_fit.variational_params_dict['mixture[11,92]']"
   ]
  },
  {
   "cell_type": "code",
   "execution_count": 9,
   "metadata": {},
   "outputs": [
    {
     "data": {
      "text/plain": [
       "[2.0,\n",
       " 2.0,\n",
       " 2.0,\n",
       " 2.0,\n",
       " 2.0,\n",
       " 2.0,\n",
       " 2.0,\n",
       " 2.0,\n",
       " 2.0,\n",
       " 2.0,\n",
       " 2.0,\n",
       " 2.0,\n",
       " 2.0,\n",
       " 2.0,\n",
       " 2.0,\n",
       " 2.0,\n",
       " 2.0,\n",
       " 2.0,\n",
       " 2.0,\n",
       " 2.0]"
      ]
     },
     "execution_count": 9,
     "metadata": {},
     "output_type": "execute_result"
    }
   ],
   "source": [
    "(GMM_fit.variational_params_np[1012:1032])\n"
   ]
  },
  {
   "cell_type": "code",
   "execution_count": null,
   "metadata": {},
   "outputs": [],
   "source": []
  },
  {
   "cell_type": "code",
   "execution_count": 6,
   "metadata": {},
   "outputs": [
    {
     "name": "stdout",
     "output_type": "stream",
     "text": [
      "mean is 0.9109\n"
     ]
    },
    {
     "data": {
      "image/png": "[encoded data removed]",
      "text/plain": [
       "<Figure size 432x288 with 1 Axes>"
      ]
     },
     "metadata": {
      "needs_background": "light"
     },
     "output_type": "display_data"
    },
    {
     "name": "stdout",
     "output_type": "stream",
     "text": [
      "mean is 1.001\n"
     ]
    },
    {
     "data": {
      "image/png": "[encoded data removed]",
      "text/plain": [
       "<Figure size 432x288 with 1 Axes>"
      ]
     },
     "metadata": {
      "needs_background": "light"
     },
     "output_type": "display_data"
    },
    {
     "name": "stdout",
     "output_type": "stream",
     "text": [
      "mean is 1.1167\n"
     ]
    },
    {
     "data": {
      "image/png": "[encoded data removed]",
      "text/plain": [
       "<Figure size 432x288 with 1 Axes>"
      ]
     },
     "metadata": {
      "needs_background": "light"
     },
     "output_type": "display_data"
    }
   ],
   "source": [
    "for i in range(1,4):\n",
    "    mu = [.9109,1.001,1.1167][i-1]#'mu[' + str(i) + ']'\n",
    "    sigma = 'sigma[' + str(i) + ']'\n",
    "  #  print(\"mean is \",GMM_fit.variational_params_dict[mu])\n",
    "    print(\"mean is\",mu)\n",
    "    x = np.linspace(0,3,100000)\n",
    "    y = stats.norm.pdf(x, loc=mu, scale=GMM_fit.variational_params_dict[sigma])\n",
    "    plt.plot(x,y)\n",
    "    plt.show()"
   ]
  },
  {
   "cell_type": "code",
   "execution_count": 78,
   "metadata": {},
   "outputs": [
    {
     "name": "stdout",
     "output_type": "stream",
     "text": [
      "mean is  0.5851269808214831\n"
     ]
    },
    {
     "data": {
      "image/png": "[encoded data removed]",
      "text/plain": [
       "<Figure size 432x288 with 1 Axes>"
      ]
     },
     "metadata": {
      "needs_background": "light"
     },
     "output_type": "display_data"
    },
    {
     "name": "stdout",
     "output_type": "stream",
     "text": [
      "mean is  0.5102790684616141\n"
     ]
    },
    {
     "data": {
      "image/png": "[encoded data removed]",
      "text/plain": [
       "<Figure size 432x288 with 1 Axes>"
      ]
     },
     "metadata": {
      "needs_background": "light"
     },
     "output_type": "display_data"
    },
    {
     "name": "stdout",
     "output_type": "stream",
     "text": [
      "mean is  0.9829462528653012\n"
     ]
    },
    {
     "data": {
      "image/png": "[encoded data removed]",
      "text/plain": [
       "<Figure size 432x288 with 1 Axes>"
      ]
     },
     "metadata": {
      "needs_background": "light"
     },
     "output_type": "display_data"
    }
   ],
   "source": [
    "for i in range(1,4):\n",
    "    beta = 'beta[' + str(i) + ']'\n",
    "    alpha = 'alpha[' + str(i) + ']'\n",
    "    print(\"mean is \",GMM_fit.variational_params_dict[alpha] / GMM_fit.variational_params_dict[beta])\n",
    "    x = np.linspace(0,3,1000)\n",
    "    y = stats.gamma.pdf(x, a=GMM_fit.variational_params_dict[alpha], scale=1/GMM_fit.variational_params_dict[beta])\n",
    "    plt.plot(x,y)\n",
    "    plt.show()"
   ]
  },
  {
   "cell_type": "code",
   "execution_count": 7,
   "metadata": {},
   "outputs": [],
   "source": [
    "assigned_plots = []\n",
    "for c in range(1,101):\n",
    "   # print(c)\n",
    "    for g in range(1,101):\n",
    "        key = 'mixture[' + str(c) + ',' + str(g) + ']'\n",
    "       # if GMM_fit.variational_params_dict[key] != 1.0:\n",
    "       # if (GMM_fit.variational_params_dict[key]) != 2:\n",
    "         #   print(key)\n",
    "          #  print(GMM_fit.variational_params_dict[key])\n",
    "        assigned_plots.append(GMM_fit.variational_params_dict[key])"
   ]
  },
  {
   "cell_type": "code",
   "execution_count": 8,
   "metadata": {},
   "outputs": [
    {
     "data": {
      "text/plain": [
       "(array([ 113., 9887.,    0.]),\n",
       " array([1, 2, 3, 4]),\n",
       " <a list of 3 Patch objects>)"
      ]
     },
     "execution_count": 8,
     "metadata": {},
     "output_type": "execute_result"
    },
    {
     "data": {
      "image/png": "[encoded data removed]",
      "text/plain": [
       "<Figure size 432x288 with 1 Axes>"
      ]
     },
     "metadata": {
      "needs_background": "light"
     },
     "output_type": "display_data"
    }
   ],
   "source": [
    "plt.hist(assigned_plots,bins=[1,2,3,4])"
   ]
  },
  {
   "cell_type": "code",
   "execution_count": 15,
   "metadata": {},
   "outputs": [
    {
     "data": {
      "text/plain": [
       "0.34609636272"
      ]
     },
     "execution_count": 15,
     "metadata": {},
     "output_type": "execute_result"
    }
   ],
   "source": [
    "0.0680007*5.0896"
   ]
  },
  {
   "cell_type": "code",
   "execution_count": 67,
   "metadata": {},
   "outputs": [
    {
     "data": {
      "text/html": [
       "<div>\n",
       "<style scoped>\n",
       "    .dataframe tbody tr th:only-of-type {\n",
       "        vertical-align: middle;\n",
       "    }\n",
       "\n",
       "    .dataframe tbody tr th {\n",
       "        vertical-align: top;\n",
       "    }\n",
       "\n",
       "    .dataframe thead th {\n",
       "        text-align: right;\n",
       "    }\n",
       "</style>\n",
       "<table border=\"1\" class=\"dataframe\">\n",
       "  <thead>\n",
       "    <tr style=\"text-align: right;\">\n",
       "      <th></th>\n",
       "      <th>0</th>\n",
       "      <th>0.1</th>\n",
       "      <th>0.2</th>\n",
       "      <th>0.396444</th>\n",
       "      <th>0.603534</th>\n",
       "      <th>2.20001e-05</th>\n",
       "      <th>1.34374</th>\n",
       "      <th>1.15284</th>\n",
       "      <th>0.272669</th>\n",
       "      <th>0.00526552</th>\n",
       "      <th>0.00143687</th>\n",
       "      <th>0.230242</th>\n",
       "    </tr>\n",
       "  </thead>\n",
       "  <tbody>\n",
       "    <tr>\n",
       "      <th>0</th>\n",
       "      <td>0</td>\n",
       "      <td>15420.7</td>\n",
       "      <td>-3.25579</td>\n",
       "      <td>6.607260e-12</td>\n",
       "      <td>0.999984</td>\n",
       "      <td>1.581210e-05</td>\n",
       "      <td>1.451950</td>\n",
       "      <td>1.791200</td>\n",
       "      <td>0.076942</td>\n",
       "      <td>0.005490</td>\n",
       "      <td>0.000681</td>\n",
       "      <td>0.053554</td>\n",
       "    </tr>\n",
       "    <tr>\n",
       "      <th>1</th>\n",
       "      <td>0</td>\n",
       "      <td>15409.4</td>\n",
       "      <td>-2.69987</td>\n",
       "      <td>1.843280e-40</td>\n",
       "      <td>0.999835</td>\n",
       "      <td>1.653560e-04</td>\n",
       "      <td>0.947889</td>\n",
       "      <td>1.792370</td>\n",
       "      <td>0.222771</td>\n",
       "      <td>0.003688</td>\n",
       "      <td>0.000521</td>\n",
       "      <td>0.121976</td>\n",
       "    </tr>\n",
       "    <tr>\n",
       "      <th>2</th>\n",
       "      <td>0</td>\n",
       "      <td>15415.0</td>\n",
       "      <td>-6.29575</td>\n",
       "      <td>2.201640e-09</td>\n",
       "      <td>0.999953</td>\n",
       "      <td>4.713310e-05</td>\n",
       "      <td>2.319610</td>\n",
       "      <td>4.087540</td>\n",
       "      <td>0.330351</td>\n",
       "      <td>0.004025</td>\n",
       "      <td>0.000307</td>\n",
       "      <td>0.176215</td>\n",
       "    </tr>\n",
       "    <tr>\n",
       "      <th>3</th>\n",
       "      <td>0</td>\n",
       "      <td>NaN</td>\n",
       "      <td>-4.59938</td>\n",
       "      <td>1.000000e+00</td>\n",
       "      <td>0.000000</td>\n",
       "      <td>0.000000e+00</td>\n",
       "      <td>0.904425</td>\n",
       "      <td>0.833711</td>\n",
       "      <td>0.586401</td>\n",
       "      <td>0.001564</td>\n",
       "      <td>0.000746</td>\n",
       "      <td>0.290655</td>\n",
       "    </tr>\n",
       "    <tr>\n",
       "      <th>4</th>\n",
       "      <td>0</td>\n",
       "      <td>15420.7</td>\n",
       "      <td>-2.92551</td>\n",
       "      <td>1.182960e-10</td>\n",
       "      <td>0.999969</td>\n",
       "      <td>3.136950e-05</td>\n",
       "      <td>2.171010</td>\n",
       "      <td>1.839130</td>\n",
       "      <td>0.181918</td>\n",
       "      <td>0.004689</td>\n",
       "      <td>0.000336</td>\n",
       "      <td>0.503894</td>\n",
       "    </tr>\n",
       "    <tr>\n",
       "      <th>...</th>\n",
       "      <td>...</td>\n",
       "      <td>...</td>\n",
       "      <td>...</td>\n",
       "      <td>...</td>\n",
       "      <td>...</td>\n",
       "      <td>...</td>\n",
       "      <td>...</td>\n",
       "      <td>...</td>\n",
       "      <td>...</td>\n",
       "      <td>...</td>\n",
       "      <td>...</td>\n",
       "      <td>...</td>\n",
       "    </tr>\n",
       "    <tr>\n",
       "      <th>995</th>\n",
       "      <td>0</td>\n",
       "      <td>15423.4</td>\n",
       "      <td>-1.37882</td>\n",
       "      <td>1.111280e-03</td>\n",
       "      <td>0.998743</td>\n",
       "      <td>1.454940e-04</td>\n",
       "      <td>1.126350</td>\n",
       "      <td>1.187100</td>\n",
       "      <td>0.364586</td>\n",
       "      <td>0.002846</td>\n",
       "      <td>0.000537</td>\n",
       "      <td>0.497733</td>\n",
       "    </tr>\n",
       "    <tr>\n",
       "      <th>996</th>\n",
       "      <td>0</td>\n",
       "      <td>15425.7</td>\n",
       "      <td>-2.96504</td>\n",
       "      <td>1.430120e-06</td>\n",
       "      <td>0.999991</td>\n",
       "      <td>7.828420e-06</td>\n",
       "      <td>1.288140</td>\n",
       "      <td>1.085370</td>\n",
       "      <td>0.701882</td>\n",
       "      <td>0.009809</td>\n",
       "      <td>0.000641</td>\n",
       "      <td>0.046143</td>\n",
       "    </tr>\n",
       "    <tr>\n",
       "      <th>997</th>\n",
       "      <td>0</td>\n",
       "      <td>15409.6</td>\n",
       "      <td>-4.71348</td>\n",
       "      <td>2.462260e-35</td>\n",
       "      <td>0.999883</td>\n",
       "      <td>1.174180e-04</td>\n",
       "      <td>1.360090</td>\n",
       "      <td>2.204550</td>\n",
       "      <td>0.305017</td>\n",
       "      <td>0.007698</td>\n",
       "      <td>0.000097</td>\n",
       "      <td>0.229386</td>\n",
       "    </tr>\n",
       "    <tr>\n",
       "      <th>998</th>\n",
       "      <td>0</td>\n",
       "      <td>15407.6</td>\n",
       "      <td>-5.03611</td>\n",
       "      <td>9.986130e-01</td>\n",
       "      <td>0.001387</td>\n",
       "      <td>2.058270e-09</td>\n",
       "      <td>1.383970</td>\n",
       "      <td>1.891720</td>\n",
       "      <td>0.265296</td>\n",
       "      <td>0.014564</td>\n",
       "      <td>0.001336</td>\n",
       "      <td>0.029234</td>\n",
       "    </tr>\n",
       "    <tr>\n",
       "      <th>999</th>\n",
       "      <td>0</td>\n",
       "      <td>15392.5</td>\n",
       "      <td>-5.63572</td>\n",
       "      <td>1.048440e-08</td>\n",
       "      <td>0.991581</td>\n",
       "      <td>8.419230e-03</td>\n",
       "      <td>1.081490</td>\n",
       "      <td>1.289330</td>\n",
       "      <td>0.086402</td>\n",
       "      <td>0.004575</td>\n",
       "      <td>0.001210</td>\n",
       "      <td>0.102097</td>\n",
       "    </tr>\n",
       "  </tbody>\n",
       "</table>\n",
       "<p>1000 rows × 12 columns</p>\n",
       "</div>"
      ],
      "text/plain": [
       "     0      0.1      0.2      0.396444  0.603534   2.20001e-05   1.34374  \\\n",
       "0    0  15420.7 -3.25579  6.607260e-12  0.999984  1.581210e-05  1.451950   \n",
       "1    0  15409.4 -2.69987  1.843280e-40  0.999835  1.653560e-04  0.947889   \n",
       "2    0  15415.0 -6.29575  2.201640e-09  0.999953  4.713310e-05  2.319610   \n",
       "3    0      NaN -4.59938  1.000000e+00  0.000000  0.000000e+00  0.904425   \n",
       "4    0  15420.7 -2.92551  1.182960e-10  0.999969  3.136950e-05  2.171010   \n",
       "..  ..      ...      ...           ...       ...           ...       ...   \n",
       "995  0  15423.4 -1.37882  1.111280e-03  0.998743  1.454940e-04  1.126350   \n",
       "996  0  15425.7 -2.96504  1.430120e-06  0.999991  7.828420e-06  1.288140   \n",
       "997  0  15409.6 -4.71348  2.462260e-35  0.999883  1.174180e-04  1.360090   \n",
       "998  0  15407.6 -5.03611  9.986130e-01  0.001387  2.058270e-09  1.383970   \n",
       "999  0  15392.5 -5.63572  1.048440e-08  0.991581  8.419230e-03  1.081490   \n",
       "\n",
       "      1.15284  0.272669  0.00526552  0.00143687  0.230242  \n",
       "0    1.791200  0.076942    0.005490    0.000681  0.053554  \n",
       "1    1.792370  0.222771    0.003688    0.000521  0.121976  \n",
       "2    4.087540  0.330351    0.004025    0.000307  0.176215  \n",
       "3    0.833711  0.586401    0.001564    0.000746  0.290655  \n",
       "4    1.839130  0.181918    0.004689    0.000336  0.503894  \n",
       "..        ...       ...         ...         ...       ...  \n",
       "995  1.187100  0.364586    0.002846    0.000537  0.497733  \n",
       "996  1.085370  0.701882    0.009809    0.000641  0.046143  \n",
       "997  2.204550  0.305017    0.007698    0.000097  0.229386  \n",
       "998  1.891720  0.265296    0.014564    0.001336  0.029234  \n",
       "999  1.289330  0.086402    0.004575    0.001210  0.102097  \n",
       "\n",
       "[1000 rows x 12 columns]"
      ]
     },
     "execution_count": 67,
     "metadata": {},
     "output_type": "execute_result"
    }
   ],
   "source": [
    "pd.read_csv('/Users/alexander/classes/Ml prob prog/project/GMM-202111121635-1.csv',skiprows=37)"
   ]
  },
  {
   "cell_type": "code",
   "execution_count": 59,
   "metadata": {},
   "outputs": [
    {
     "data": {
      "text/plain": [
       "CmdStanVB: model=GMM['method=variational', 'adapt', 'engaged=1']\n",
       " csv_file:\n",
       "\t/Users/alexander/classes/Ml prob prog/project/GMM-202111121635-1.csv\n",
       " output_file:\n",
       "\t/Users/alexander/classes/Ml prob prog/project/GMM-202111121635-1-stdout.txt"
      ]
     },
     "execution_count": 59,
     "metadata": {},
     "output_type": "execute_result"
    }
   ],
   "source": [
    "GMM_fit"
   ]
  },
  {
   "cell_type": "code",
   "execution_count": null,
   "metadata": {},
   "outputs": [],
   "source": []
  }
 ],
 "metadata": {
  "kernelspec": {
   "display_name": "Python 3",
   "language": "python",
   "name": "python3"
  },
  "language_info": {
   "codemirror_mode": {
    "name": "ipython",
    "version": 3
   },
   "file_extension": ".py",
   "mimetype": "text/x-python",
   "name": "python",
   "nbconvert_exporter": "python",
   "pygments_lexer": "ipython3",
   "version": "3.8.3"
  }
 },
 "nbformat": 4,
 "nbformat_minor": 4
}
