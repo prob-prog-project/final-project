{
 "cells": [
  {
   "cell_type": "code",
   "execution_count": 2,
   "metadata": {},
   "outputs": [],
   "source": [
    "from cmdstanpy import model\n",
    "import numpy as np\n",
    "import scanpy as sc\n",
    "import json\n",
    "import pandas as pd\n",
    "import os\n",
    "from cmdstanpy import cmdstan_path, CmdStanModel\n",
    "import scipy.stats as stats\n",
    "import matplotlib.pyplot as plt\n",
    "import random\n",
    "import scipy\n"
   ]
  },
  {
   "cell_type": "code",
   "execution_count": 4,
   "metadata": {},
   "outputs": [
    {
     "name": "stderr",
     "output_type": "stream",
     "text": [
      "Trying to set attribute `.uns` of view, copying.\n"
     ]
    }
   ],
   "source": [
    "from subsample import get_sampled_infer"
   ]
  },
  {
   "cell_type": "code",
   "execution_count": 12,
   "metadata": {},
   "outputs": [],
   "source": [
    "from run_gmm import run_gmm"
   ]
  },
  {
   "cell_type": "code",
   "execution_count": null,
   "metadata": {},
   "outputs": [],
   "source": [
    "PATH_TO_STAN_FILES = \"/Users/alexander/classes/Ml prob prog/project/\"\n"
   ]
  },
  {
   "cell_type": "code",
   "execution_count": 5,
   "metadata": {},
   "outputs": [],
   "source": [
    "infer_data = get_sampled_infer()"
   ]
  },
  {
   "cell_type": "code",
   "execution_count": null,
   "metadata": {},
   "outputs": [
    {
     "name": "stderr",
     "output_type": "stream",
     "text": [
      "INFO:cmdstanpy:compiling stan program, exe file: /var/folders/tl/_362fbkn33b40bs9pcwpbcfc0000gn/T/tmp7c7aiups/tmpm3h5re6p\n",
      "INFO:cmdstanpy:compiler options: stanc_options={}, cpp_options={}\n",
      "INFO:cmdstanpy:compiled model file: /Users/alexander/classes/Ml prob prog/project/GMM\n",
      "INFO:cmdstanpy:Chain [1] start processing\n"
     ]
    },
    {
     "name": "stdout",
     "output_type": "stream",
     "text": [
      "Chain [1] method = variational\n",
      "Chain [1] variational\n",
      "Chain [1] algorithm = meanfield (Default)\n",
      "Chain [1] meanfield\n",
      "Chain [1] iter = 20000\n",
      "Chain [1] grad_samples = 1 (Default)\n",
      "Chain [1] elbo_samples = 100 (Default)\n",
      "Chain [1] eta = 1 (Default)\n",
      "Chain [1] adapt\n",
      "Chain [1] engaged = 1 (Default)\n",
      "Chain [1] iter = 50 (Default)\n",
      "Chain [1] tol_rel_obj = 0.001\n",
      "Chain [1] eval_elbo = 100 (Default)\n",
      "Chain [1] output_samples = 1000 (Default)\n",
      "Chain [1] id = 1 (Default)\n",
      "Chain [1] data\n",
      "Chain [1] file = /Users/alexander/cmdstan/scHPF_GMM/scHPF_GMM.data.json\n",
      "Chain [1] init = 2 (Default)\n",
      "Chain [1] random\n",
      "Chain [1] seed = 81535\n",
      "Chain [1] output\n",
      "Chain [1] file = /Users/alexander/classes/Ml prob prog/project/criticism/GMM-20211204212032.csv\n",
      "Chain [1] diagnostic_file =  (Default)\n",
      "Chain [1] refresh = 100 (Default)\n",
      "Chain [1] sig_figs = -1 (Default)\n",
      "Chain [1] profile_file = profile.csv (Default)\n",
      "Chain [1] num_threads = 1 (Default)\n",
      "Chain [1] \n",
      "Chain [1] ------------------------------------------------------------\n",
      "Chain [1] EXPERIMENTAL ALGORITHM:\n",
      "Chain [1] This procedure has not been thoroughly tested and may be unstable\n",
      "Chain [1] or buggy. The interface is subject to change.\n",
      "Chain [1] ------------------------------------------------------------\n",
      "Chain [1] \n",
      "Chain [1] \n",
      "Chain [1] \n",
      "Chain [1] Gradient evaluation took 1.3225 seconds\n",
      "Chain [1] 1000 transitions using 10 leapfrog steps per transition would take 13225 seconds.\n",
      "Chain [1] Adjust your expectations accordingly!\n",
      "Chain [1] \n",
      "Chain [1] \n",
      "Chain [1] Begin eta adaptation.\n",
      "Chain [1] Iteration:   1 / 250 [  0%]  (Adaptation)\n"
     ]
    }
   ],
   "source": [
    "GMM_stan_closed = os.path.join(PATH_TO_STAN_FILES,'GMM.stan')\n",
    "GMM_fit_closed_mean = run_gmm(GMM_stan_closed,infer_data)"
   ]
  },
  {
   "cell_type": "code",
   "execution_count": null,
   "metadata": {},
   "outputs": [],
   "source": [
    "GMM_stan_open = os.path.join(PATH_TO_STAN_FILES,'GMM_open_mean.stan')\n",
    "GMM_fit_open_mean = run_gmm(GMM_stan_open,infer_data)"
   ]
  }
 ],
 "metadata": {
  "kernelspec": {
   "display_name": "Python 3",
   "language": "python",
   "name": "python3"
  },
  "language_info": {
   "codemirror_mode": {
    "name": "ipython",
    "version": 3
   },
   "file_extension": ".py",
   "mimetype": "text/x-python",
   "name": "python",
   "nbconvert_exporter": "python",
   "pygments_lexer": "ipython3",
   "version": "3.8.3"
  }
 },
 "nbformat": 4,
 "nbformat_minor": 4
}
